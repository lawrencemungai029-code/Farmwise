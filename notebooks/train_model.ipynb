{
 "cells": [
  {
   "cell_type": "markdown",
   "id": "f582b0b9",
   "metadata": {},
   "source": [
    "# 1. Import Required Libraries\n",
    "This section imports all necessary libraries for data analysis, preprocessing, modeling, and explainability."
   ]
  },
  {
   "cell_type": "code",
   "execution_count": 10,
   "id": "03f1c656",
   "metadata": {},
   "outputs": [],
   "source": [
    "# Import all required libraries\n",
    "import pandas as pd\n",
    "import numpy as np\n",
    "import matplotlib.pyplot as plt\n",
    "import seaborn as sns\n",
    "from sklearn.model_selection import train_test_split\n",
    "from sklearn.preprocessing import LabelEncoder, OneHotEncoder, StandardScaler\n",
    "from sklearn.linear_model import LogisticRegression\n",
    "from sklearn.ensemble import RandomForestClassifier\n",
    "from xgboost import XGBClassifier\n",
    "from sklearn.metrics import accuracy_score, f1_score, precision_score, recall_score, confusion_matrix, classification_report\n",
    "import shap\n",
    "import joblib\n",
    "import os\n",
    "import warnings\n",
    "warnings.filterwarnings('ignore')"
   ]
  },
  {
   "cell_type": "markdown",
   "id": "3b01aefe",
   "metadata": {},
   "source": [
    "# 2. Load and Inspect Data\n",
    "Load the synthetic farmer data from `/data/farmers_data.csv` and inspect its structure."
   ]
  },
  {
   "cell_type": "code",
   "execution_count": 11,
   "id": "fe021586",
   "metadata": {},
   "outputs": [
    {
     "name": "stdout",
     "output_type": "stream",
     "text": [
      "Shape: (1000, 63)\n"
     ]
    },
    {
     "data": {
      "text/html": [
       "<div>\n",
       "<style scoped>\n",
       "    .dataframe tbody tr th:only-of-type {\n",
       "        vertical-align: middle;\n",
       "    }\n",
       "\n",
       "    .dataframe tbody tr th {\n",
       "        vertical-align: top;\n",
       "    }\n",
       "\n",
       "    .dataframe thead th {\n",
       "        text-align: right;\n",
       "    }\n",
       "</style>\n",
       "<table border=\"1\" class=\"dataframe\">\n",
       "  <thead>\n",
       "    <tr style=\"text-align: right;\">\n",
       "      <th></th>\n",
       "      <th>farmer_id</th>\n",
       "      <th>37203063</th>\n",
       "      <th>phone_number</th>\n",
       "      <th>region</th>\n",
       "      <th>age</th>\n",
       "      <th>education_level</th>\n",
       "      <th>gender</th>\n",
       "      <th>marital_status</th>\n",
       "      <th>dependents_count</th>\n",
       "      <th>household_income_sources</th>\n",
       "      <th>...</th>\n",
       "      <th>agroclimatic_zone_behav</th>\n",
       "      <th>rainfall_forecast_next_90d_behav</th>\n",
       "      <th>historical_drought_risk_behav</th>\n",
       "      <th>cooperative_member_behav</th>\n",
       "      <th>mobile_advisory_usage_behav</th>\n",
       "      <th>loan_default_past_behav</th>\n",
       "      <th>input_use_history_behav</th>\n",
       "      <th>has_insurance_before_behav</th>\n",
       "      <th>willing_to_subscribe_insurance_behav</th>\n",
       "      <th>loan_class_behav</th>\n",
       "    </tr>\n",
       "  </thead>\n",
       "  <tbody>\n",
       "    <tr>\n",
       "      <th>0</th>\n",
       "      <td>F0017</td>\n",
       "      <td>5.156704e+07</td>\n",
       "      <td>378-905-0779</td>\n",
       "      <td>Kitale</td>\n",
       "      <td>60.381230</td>\n",
       "      <td>Secondary</td>\n",
       "      <td>Female</td>\n",
       "      <td>Single</td>\n",
       "      <td>0.994375</td>\n",
       "      <td>['None', 'Small Business']</td>\n",
       "      <td>...</td>\n",
       "      <td>Kiambu_Z3</td>\n",
       "      <td>290.40</td>\n",
       "      <td>0.940</td>\n",
       "      <td>True</td>\n",
       "      <td>False</td>\n",
       "      <td>False</td>\n",
       "      <td>Regular</td>\n",
       "      <td>False</td>\n",
       "      <td>False</td>\n",
       "      <td>1</td>\n",
       "    </tr>\n",
       "    <tr>\n",
       "      <th>1</th>\n",
       "      <td>F0014</td>\n",
       "      <td>7.891336e+07</td>\n",
       "      <td>(308)138-1827</td>\n",
       "      <td>Narok</td>\n",
       "      <td>22.497088</td>\n",
       "      <td>Secondary</td>\n",
       "      <td>Female</td>\n",
       "      <td>Widowed</td>\n",
       "      <td>2.792840</td>\n",
       "      <td>['None', 'Small Business']</td>\n",
       "      <td>...</td>\n",
       "      <td>Kiambu_Z3</td>\n",
       "      <td>366.40</td>\n",
       "      <td>0.550</td>\n",
       "      <td>False</td>\n",
       "      <td>True</td>\n",
       "      <td>False</td>\n",
       "      <td>Regular</td>\n",
       "      <td>True</td>\n",
       "      <td>False</td>\n",
       "      <td>0</td>\n",
       "    </tr>\n",
       "    <tr>\n",
       "      <th>2</th>\n",
       "      <td>...</td>\n",
       "      <td>9.088294e+07</td>\n",
       "      <td>(039)931-6132x84843</td>\n",
       "      <td>Narok</td>\n",
       "      <td>27.732945</td>\n",
       "      <td>Primary</td>\n",
       "      <td>Female</td>\n",
       "      <td>Widowed</td>\n",
       "      <td>0.037087</td>\n",
       "      <td>['Livestock', 'Small Business']</td>\n",
       "      <td>...</td>\n",
       "      <td>Kiambu_Z3</td>\n",
       "      <td>179.45</td>\n",
       "      <td>0.625</td>\n",
       "      <td>False</td>\n",
       "      <td>True</td>\n",
       "      <td>True</td>\n",
       "      <td>Regular</td>\n",
       "      <td>True</td>\n",
       "      <td>False</td>\n",
       "      <td>0</td>\n",
       "    </tr>\n",
       "    <tr>\n",
       "      <th>3</th>\n",
       "      <td>F0006</td>\n",
       "      <td>5.385193e+07</td>\n",
       "      <td>511-177-9965</td>\n",
       "      <td>Kitale</td>\n",
       "      <td>18.639570</td>\n",
       "      <td>Primary</td>\n",
       "      <td>Female</td>\n",
       "      <td>Married</td>\n",
       "      <td>0.985052</td>\n",
       "      <td>['Remittance', 'Livestock']</td>\n",
       "      <td>...</td>\n",
       "      <td>Narok_Z1</td>\n",
       "      <td>375.20</td>\n",
       "      <td>0.880</td>\n",
       "      <td>False</td>\n",
       "      <td>True</td>\n",
       "      <td>True</td>\n",
       "      <td>Regular</td>\n",
       "      <td>True</td>\n",
       "      <td>True</td>\n",
       "      <td>0</td>\n",
       "    </tr>\n",
       "    <tr>\n",
       "      <th>4</th>\n",
       "      <td>F0007</td>\n",
       "      <td>9.222629e+07</td>\n",
       "      <td>(170)850-1178x888</td>\n",
       "      <td>Kitale</td>\n",
       "      <td>64.216407</td>\n",
       "      <td>Secondary</td>\n",
       "      <td>Female</td>\n",
       "      <td>Widowed</td>\n",
       "      <td>2.118846</td>\n",
       "      <td>['None', 'Small Business']</td>\n",
       "      <td>...</td>\n",
       "      <td>Kitale_Z2</td>\n",
       "      <td>398.30</td>\n",
       "      <td>0.650</td>\n",
       "      <td>False</td>\n",
       "      <td>False</td>\n",
       "      <td>True</td>\n",
       "      <td>Regular</td>\n",
       "      <td>True</td>\n",
       "      <td>True</td>\n",
       "      <td>1</td>\n",
       "    </tr>\n",
       "  </tbody>\n",
       "</table>\n",
       "<p>5 rows × 63 columns</p>\n",
       "</div>"
      ],
      "text/plain": [
       "  farmer_id      37203063         phone_number  region        age  \\\n",
       "0     F0017  5.156704e+07         378-905-0779  Kitale  60.381230   \n",
       "1     F0014  7.891336e+07        (308)138-1827   Narok  22.497088   \n",
       "2       ...  9.088294e+07  (039)931-6132x84843   Narok  27.732945   \n",
       "3     F0006  5.385193e+07         511-177-9965  Kitale  18.639570   \n",
       "4     F0007  9.222629e+07    (170)850-1178x888  Kitale  64.216407   \n",
       "\n",
       "  education_level  gender marital_status  dependents_count  \\\n",
       "0       Secondary  Female         Single          0.994375   \n",
       "1       Secondary  Female        Widowed          2.792840   \n",
       "2         Primary  Female        Widowed          0.037087   \n",
       "3         Primary  Female        Married          0.985052   \n",
       "4       Secondary  Female        Widowed          2.118846   \n",
       "\n",
       "          household_income_sources  ... agroclimatic_zone_behav  \\\n",
       "0       ['None', 'Small Business']  ...               Kiambu_Z3   \n",
       "1       ['None', 'Small Business']  ...               Kiambu_Z3   \n",
       "2  ['Livestock', 'Small Business']  ...               Kiambu_Z3   \n",
       "3      ['Remittance', 'Livestock']  ...                Narok_Z1   \n",
       "4       ['None', 'Small Business']  ...               Kitale_Z2   \n",
       "\n",
       "   rainfall_forecast_next_90d_behav  historical_drought_risk_behav  \\\n",
       "0                            290.40                          0.940   \n",
       "1                            366.40                          0.550   \n",
       "2                            179.45                          0.625   \n",
       "3                            375.20                          0.880   \n",
       "4                            398.30                          0.650   \n",
       "\n",
       "   cooperative_member_behav  mobile_advisory_usage_behav  \\\n",
       "0                      True                        False   \n",
       "1                     False                         True   \n",
       "2                     False                         True   \n",
       "3                     False                         True   \n",
       "4                     False                        False   \n",
       "\n",
       "   loan_default_past_behav input_use_history_behav  \\\n",
       "0                    False                 Regular   \n",
       "1                    False                 Regular   \n",
       "2                     True                 Regular   \n",
       "3                     True                 Regular   \n",
       "4                     True                 Regular   \n",
       "\n",
       "   has_insurance_before_behav willing_to_subscribe_insurance_behav  \\\n",
       "0                       False                                False   \n",
       "1                        True                                False   \n",
       "2                        True                                False   \n",
       "3                        True                                 True   \n",
       "4                        True                                 True   \n",
       "\n",
       "   loan_class_behav  \n",
       "0                 1  \n",
       "1                 0  \n",
       "2                 0  \n",
       "3                 0  \n",
       "4                 1  \n",
       "\n",
       "[5 rows x 63 columns]"
      ]
     },
     "execution_count": 11,
     "metadata": {},
     "output_type": "execute_result"
    }
   ],
   "source": [
    "# Load the data\n",
    "data_path = '../data/merged_enhanced_behavioral.csv'\n",
    "df = pd.read_csv(data_path)\n",
    "print('Shape:', df.shape)\n",
    "df.head()"
   ]
  },
  {
   "cell_type": "markdown",
   "id": "70b046e4",
   "metadata": {},
   "source": [
    "# 3. Preprocessing\n",
    "Encode categorical variables, normalize numeric columns, and split the data into train and test sets."
   ]
  },
  {
   "cell_type": "code",
   "execution_count": 12,
   "id": "4be9fb1f",
   "metadata": {},
   "outputs": [
    {
     "name": "stdout",
     "output_type": "stream",
     "text": [
      "Train shape: (800, 155) Test shape: (200, 155)\n"
     ]
    }
   ],
   "source": [
    "# Identify target and features\n",
    "target_col = 'loan_class' if 'loan_class' in df.columns else df.columns[-1]\n",
    "X = df.drop(columns=[target_col])\n",
    "y = df[target_col]\n",
    "\n",
    "# Encode categorical features\n",
    "def encode_features(X):\n",
    "    X_encoded = X.copy()\n",
    "    for col in X_encoded.select_dtypes(include=['object']).columns:\n",
    "        if X_encoded[col].nunique() < 10:\n",
    "            X_encoded[col] = LabelEncoder().fit_transform(X_encoded[col].astype(str))\n",
    "        else:\n",
    "            X_encoded = pd.get_dummies(X_encoded, columns=[col], drop_first=True)\n",
    "    return X_encoded\n",
    "\n",
    "X_encoded = encode_features(X)\n",
    "\n",
    "# Impute or drop missing values (fix for NaN)\n",
    "X_encoded = X_encoded.dropna()\n",
    "if len(X_encoded) != len(y):\n",
    "    y = y.loc[X_encoded.index]\n",
    "\n",
    "# Clean column names for XGBoost compatibility\n",
    "X_encoded.columns = [str(c).replace('[','').replace(']','').replace('<','').replace('>','').replace(\"'\",\"\").replace(' ', '_') for c in X_encoded.columns]\n",
    "\n",
    "# Normalize numeric columns\n",
    "scaler = StandardScaler()\n",
    "numeric_cols = X_encoded.select_dtypes(include=[np.number]).columns\n",
    "X_encoded[numeric_cols] = scaler.fit_transform(X_encoded[numeric_cols])\n",
    "\n",
    "# Train-test split\n",
    "X_train, X_test, y_train, y_test = train_test_split(X_encoded, y, test_size=0.2, random_state=42, stratify=y)\n",
    "print('Train shape:', X_train.shape, 'Test shape:', X_test.shape)"
   ]
  },
  {
   "cell_type": "markdown",
   "id": "ba86d84f",
   "metadata": {},
   "source": [
    "# 4. Model Training\n",
    "Train Logistic Regression, Random Forest, and XGBoost classifiers. Evaluate each with accuracy, F1-score, precision, recall, and confusion matrix."
   ]
  },
  {
   "cell_type": "code",
   "execution_count": 13,
   "id": "e0bb986c",
   "metadata": {},
   "outputs": [
    {
     "name": "stdout",
     "output_type": "stream",
     "text": [
      "Model\tAccuracy\tF1\tPrecision\tRecall\n",
      "LogisticRegression\t0.880\t0.880\t0.880\t0.880\n",
      "RandomForest\t0.895\t0.893\t0.895\t0.895\n",
      "XGBoost\t0.885\t0.884\t0.884\t0.885\n"
     ]
    }
   ],
   "source": [
    "# Train and evaluate models\n",
    "def evaluate_model(model, X_test, y_test):\n",
    "    y_pred = model.predict(X_test)\n",
    "    acc = accuracy_score(y_test, y_pred)\n",
    "    f1 = f1_score(y_test, y_pred, average='weighted')\n",
    "    prec = precision_score(y_test, y_pred, average='weighted')\n",
    "    rec = recall_score(y_test, y_pred, average='weighted')\n",
    "    cm = confusion_matrix(y_test, y_pred)\n",
    "    return {'accuracy': acc, 'f1': f1, 'precision': prec, 'recall': rec, 'confusion_matrix': cm}\n",
    "\n",
    "results = {}\n",
    "\n",
    "# Logistic Regression\n",
    "lr = LogisticRegression(max_iter=1000)\n",
    "lr.fit(X_train, y_train)\n",
    "results['LogisticRegression'] = evaluate_model(lr, X_test, y_test)\n",
    "\n",
    "# Random Forest\n",
    "rf = RandomForestClassifier(random_state=42)\n",
    "rf.fit(X_train, y_train)\n",
    "results['RandomForest'] = evaluate_model(rf, X_test, y_test)\n",
    "\n",
    "# XGBoost\n",
    "xgb = XGBClassifier(use_label_encoder=False, eval_metric='mlogloss', random_state=42)\n",
    "xgb.fit(X_train, y_train)\n",
    "results['XGBoost'] = evaluate_model(xgb, X_test, y_test)\n",
    "\n",
    "# Print metrics\n",
    "def print_metrics(results):\n",
    "    print('Model\\tAccuracy\\tF1\\tPrecision\\tRecall')\n",
    "    for name, res in results.items():\n",
    "        print(f\"{name}\\t{res['accuracy']:.3f}\\t{res['f1']:.3f}\\t{res['precision']:.3f}\\t{res['recall']:.3f}\")\n",
    "print_metrics(results)"
   ]
  },
  {
   "cell_type": "markdown",
   "id": "cc653fcf",
   "metadata": {},
   "source": [
    "# 5. Model Selection and Saving\n",
    "Compare metrics, select the best model (prefer RandomForest), and save it to `/models/credit_model.pkl`."
   ]
  },
  {
   "cell_type": "code",
   "execution_count": 14,
   "id": "8a35b587",
   "metadata": {},
   "outputs": [
    {
     "name": "stdout",
     "output_type": "stream",
     "text": [
      "Best model: RandomForest saved to ../models/credit_model.pkl\n"
     ]
    }
   ],
   "source": [
    "# Select best model (prefer RandomForest if close)\n",
    "best_model_name = max(results, key=lambda k: results[k]['f1'])\n",
    "if best_model_name != 'RandomForest' and results['RandomForest']['f1'] >= results[best_model_name]['f1'] - 0.01:\n",
    "    best_model_name = 'RandomForest'\n",
    "best_model = {'LogisticRegression': lr, 'RandomForest': rf, 'XGBoost': xgb}[best_model_name]\n",
    "\n",
    "# Save the best model\n",
    "os.makedirs('../models', exist_ok=True)\n",
    "joblib.dump(best_model, '../models/credit_model.pkl')\n",
    "print(f\"Best model: {best_model_name} saved to ../models/credit_model.pkl\")"
   ]
  },
  {
   "cell_type": "markdown",
   "id": "522cebe0",
   "metadata": {},
   "source": [
    "# 6. Explainability\n",
    "Show feature importance using SHAP (if XGBoost or RandomForest) or model coefficients. Print top 5 influential features."
   ]
  },
  {
   "cell_type": "code",
   "execution_count": 15,
   "id": "8ea20aaa",
   "metadata": {},
   "outputs": [
    {
     "data": {
      "image/png": "[encoded data removed]",
      "text/plain": [
       "<Figure size 1150x660 with 2 Axes>"
      ]
     },
     "metadata": {},
     "output_type": "display_data"
    },
    {
     "name": "stdout",
     "output_type": "stream",
     "text": [
      "Top 5 features by SHAP:\n",
      "SHAP explainability failed: unsupported format string passed to numpy.ndarray.__format__\n",
      "Top 5 features by model importance:\n",
      "farm_size_acres: 0.2449\n",
      "yield_per_acre: 0.2362\n",
      "past_crop_performance_index: 0.0273\n",
      "repayment_history_score: 0.0255\n",
      "loan_behavior_factor: 0.0222\n"
     ]
    }
   ],
   "source": [
    "# Feature importance or SHAP\n",
    "feature_names = X_encoded.columns\n",
    "if best_model_name in ['RandomForest', 'XGBoost']:\n",
    "    try:\n",
    "        explainer = shap.TreeExplainer(best_model)\n",
    "        shap_values = explainer.shap_values(X_train)\n",
    "        shap.summary_plot(shap_values, X_train, feature_names=feature_names, show=False)\n",
    "        plt.title('SHAP Feature Importance')\n",
    "        plt.show()\n",
    "        # Get mean absolute SHAP values for ranking\n",
    "        shap_importance = np.abs(shap_values).mean(axis=0)\n",
    "        top_idx = np.argsort(shap_importance)[::-1][:5]\n",
    "        print('Top 5 features by SHAP:')\n",
    "        for i in top_idx:\n",
    "            print(f\"{feature_names[i]}: {shap_importance[i]:.4f}\")\n",
    "    except Exception as e:\n",
    "        print('SHAP explainability failed:', e)\n",
    "        if hasattr(best_model, 'feature_importances_'):\n",
    "            importances = best_model.feature_importances_\n",
    "            idx = np.argsort(importances)[::-1][:5]\n",
    "            print('Top 5 features by model importance:')\n",
    "            for i in idx:\n",
    "                print(f\"{feature_names[i]}: {importances[i]:.4f}\")\n",
    "else:\n",
    "    if hasattr(best_model, 'coef_'):\n",
    "        coefs = best_model.coef_[0]\n",
    "        idx = np.argsort(np.abs(coefs))[::-1][:5]\n",
    "        print('Top 5 features by coefficient:')\n",
    "        for i in idx:\n",
    "            print(f\"{feature_names[i]}: {coefs[i]:.4f}\")"
   ]
  },
  {
   "cell_type": "markdown",
   "id": "1585d373",
   "metadata": {},
   "source": [
    "# 7. Summary Output\n",
    "Print the best model name, top features, and a short interpretation of the results."
   ]
  },
  {
   "cell_type": "code",
   "execution_count": 16,
   "id": "20cde15b",
   "metadata": {},
   "outputs": [
    {
     "name": "stdout",
     "output_type": "stream",
     "text": [
      "Best Model: RandomForest\n",
      "Key features: See above for top 5 influential features.\n",
      "Interpretation: The selected model predicts loan eligibility class (A/B/C) for smallholder farmers using demographic, behavioral, and farm-related features. Top features indicate the most influential factors in credit scoring for this dataset.\n"
     ]
    }
   ],
   "source": [
    "print(f\"Best Model: {best_model_name}\")\n",
    "print(\"Key features: See above for top 5 influential features.\")\n",
    "print(\"Interpretation: The selected model predicts loan eligibility class (A/B/C) for smallholder farmers using demographic, behavioral, and farm-related features. Top features indicate the most influential factors in credit scoring for this dataset.\")"
   ]
  },
  {
   "cell_type": "markdown",
   "id": "01f1fdfd",
   "metadata": {},
   "source": [
    "# 8. Model Test and Example Prediction\n",
    "Test the model on the test set and show accuracy. Also, show a sample farmer's name (ID) and their predicted loan class."
   ]
  },
  {
   "cell_type": "code",
   "execution_count": 17,
   "id": "2d4a9695",
   "metadata": {},
   "outputs": [
    {
     "name": "stdout",
     "output_type": "stream",
     "text": [
      "Test set accuracy: 0.895\n",
      "Sample Farmer ID: F0015, Predicted Loan Class: 1\n"
     ]
    }
   ],
   "source": [
    "# Test model accuracy on test set\n",
    "from sklearn.metrics import accuracy_score\n",
    "\n",
    "y_pred = best_model.predict(X_test)\n",
    "acc = accuracy_score(y_test, y_pred)\n",
    "print(f\"Test set accuracy: {acc:.3f}\")\n",
    "\n",
    "# Show a sample farmer's ID and their predicted loan class\n",
    "# Find the index in the original df that matches the first test sample\n",
    "sample_idx = X_test.index[0]\n",
    "farmer_id = df.loc[sample_idx, 'farmer_id'] if 'farmer_id' in df.columns else sample_idx\n",
    "predicted_class = best_model.predict([X_test.iloc[0]])[0]\n",
    "print(f\"Sample Farmer ID: {farmer_id}, Predicted Loan Class: {predicted_class}\")"
   ]
  }
 ],
 "metadata": {
  "kernelspec": {
   "display_name": "base",
   "language": "python",
   "name": "python3"
  },
  "language_info": {
   "codemirror_mode": {
    "name": "ipython",
    "version": 3
   },
   "file_extension": ".py",
   "mimetype": "text/x-python",
   "name": "python",
   "nbconvert_exporter": "python",
   "pygments_lexer": "ipython3",
   "version": "3.11.5"
  }
 },
 "nbformat": 4,
 "nbformat_minor": 5
}
